{
 "cells": [
  {
   "cell_type": "code",
   "execution_count": 5,
   "metadata": {},
   "outputs": [],
   "source": [
    "import numpy as np\n",
    "import pandas as pd\n",
    "import scipy.io as sio\n",
    "import matplotlib.pyplot as plt\n",
    "import rasterio\n",
    "from rasterio.io import MemoryFile\n",
    "from rasterio.mask import mask\n",
    "from rasterio.transform import from_origin\n",
    "from rasterio.mask import mask\n",
    "import geopandas as gpd"
   ]
  },
  {
   "attachments": {},
   "cell_type": "markdown",
   "metadata": {},
   "source": [
    "# Quick Demo"
   ]
  },
  {
   "cell_type": "markdown",
   "metadata": {},
   "source": [
    "## Load data"
   ]
  },
  {
   "cell_type": "code",
   "execution_count": 6,
   "metadata": {},
   "outputs": [
    {
     "data": {
      "text/plain": [
       "((5457, 5626),\n",
       " (5457, 5626),\n",
       " (5457, 5626),\n",
       " (5457, 5626),\n",
       " (5457, 5626),\n",
       " (5457, 5626),\n",
       " (5457, 5626))"
      ]
     },
     "execution_count": 6,
     "metadata": {},
     "output_type": "execute_result"
    }
   ],
   "source": [
    "path = '../../example_data/'\n",
    "data_hand = sio.loadmat(path+'hand_data.mat')['img']\n",
    "data_hec = sio.loadmat(path+'hec_data.mat')['img']\n",
    "data_terrain = sio.loadmat(path+'terrain_data.mat')['img'][:, :]\n",
    "data_slope = sio.loadmat(path+'slope_data.mat')['img'][:, :]\n",
    "data_aspect = sio.loadmat(path+'aspect_data.mat')['img'][:, :]\n",
    "data_lulc = sio.loadmat(path+'lulc_data.mat')['img'][:, :]\n",
    "data_imper = sio.loadmat(path+'imper_data.mat')['img'][:, :]\n",
    "data_hand.shape, data_hec.shape, data_terrain.shape, data_slope.shape, data_aspect.shape, \\\n",
    "data_lulc.shape, data_imper.shape"
   ]
  },
  {
   "cell_type": "code",
   "execution_count": 7,
   "metadata": {},
   "outputs": [
    {
     "data": {
      "text/plain": [
       "(array([-1,  0,  1]), array([-1.,  0.,  1.], dtype=float32))"
      ]
     },
     "execution_count": 7,
     "metadata": {},
     "output_type": "execute_result"
    }
   ],
   "source": [
    "# check the data_hand and data_hec show the correct values, 1 for flooded, -1 for dry, 0 for not-study-area mask\n",
    "np.unique(data_hand), np.unique(data_hec)"
   ]
  },
  {
   "cell_type": "code",
   "execution_count": 8,
   "metadata": {},
   "outputs": [
    {
     "data": {
      "text/plain": [
       "[(5457, 5626),\n",
       " (5457, 5626),\n",
       " (5457, 5626),\n",
       " (5457, 5626),\n",
       " (5457, 5626),\n",
       " (5457, 5626),\n",
       " (5457, 5626)]"
      ]
     },
     "execution_count": 8,
     "metadata": {},
     "output_type": "execute_result"
    }
   ],
   "source": [
    "data_X_list = [data_hand, data_hec, data_terrain, data_slope, data_aspect, data_lulc, data_imper]\n",
    "[p.shape for p in data_X_list]"
   ]
  },
  {
   "cell_type": "markdown",
   "metadata": {},
   "source": [
    "### Show the HAND-FIM and HEC-RAS"
   ]
  },
  {
   "cell_type": "code",
   "execution_count": 9,
   "metadata": {},
   "outputs": [
    {
     "data": {
      "image/png": "[encoded data removed]",
      "text/plain": [
       "<Figure size 1200x600 with 2 Axes>"
      ]
     },
     "metadata": {},
     "output_type": "display_data"
    }
   ],
   "source": [
    "import matplotlib.colors as colors\n",
    "\n",
    "cmap = colors.ListedColormap(['gray', 'white', 'red'])\n",
    "\n",
    "def map_colors(data):\n",
    "    return cmap([(data == -1)*0 + (data == 0)*1 + (data == 1)*2])\n",
    "\n",
    "fig, axs = plt.subplots(1, 2, figsize=(12, 6))\n",
    "\n",
    "ax = axs[0]\n",
    "ax.set_title('HAND FIM', fontsize=16)\n",
    "im = ax.imshow(data_hand, cmap=cmap)\n",
    "ax.axis('off')\n",
    "\n",
    "color_list = ['gray', 'r']\n",
    "labels = ['Dry', 'Flooded']\n",
    "for i in range(2):\n",
    "    ax.bar([np.nan], [np.nan], color=color_list[i], label=labels[i])\n",
    "ax.legend(frameon=False, fontsize=14, loc='best')\n",
    "\n",
    "ax = axs[1]\n",
    "ax.set_title('HEC-RAS', fontsize=16)\n",
    "im = ax.imshow(data_hec, cmap=cmap)\n",
    "ax.axis('off')\n",
    "\n",
    "plt.tight_layout()\n",
    "plt.show()"
   ]
  },
  {
   "cell_type": "markdown",
   "metadata": {},
   "source": [
    "### Get the whole figure for the final show"
   ]
  },
  {
   "cell_type": "code",
   "execution_count": 10,
   "metadata": {},
   "outputs": [],
   "source": [
    "def get_figures(data_X_list):\n",
    "    fig = [data_X for data_X in data_X_list]\n",
    "    mask_non_zero_ras = fig[1]!=0\n",
    "    loc_info = np.where(mask_non_zero_ras)\n",
    "    return fig, mask_non_zero_ras, loc_info\n",
    "\n",
    "def process_matrix_to_list(fig, mask):\n",
    "    return fig[mask]"
   ]
  },
  {
   "cell_type": "code",
   "execution_count": 11,
   "metadata": {},
   "outputs": [
    {
     "data": {
      "text/plain": [
       "(5457, 5626)"
      ]
     },
     "execution_count": 11,
     "metadata": {},
     "output_type": "execute_result"
    }
   ],
   "source": [
    "pic, mask_non_zero_ras, loc_info = get_figures(data_X_list)\n",
    "pic[0].shape"
   ]
  },
  {
   "cell_type": "code",
   "execution_count": 12,
   "metadata": {},
   "outputs": [
    {
     "data": {
      "text/plain": [
       "((1016191, 6), (1016191,))"
      ]
     },
     "execution_count": 12,
     "metadata": {},
     "output_type": "execute_result"
    }
   ],
   "source": [
    "dataX = np.stack([process_matrix_to_list(data_X_list[0], mask_non_zero_ras)]+\\\n",
    "                 [process_matrix_to_list(data_X_list[i], mask_non_zero_ras) for i in range(2, len(data_X_list))], axis=1)\n",
    "dataX[np.isnan(dataX)] = 0\n",
    "datay = process_matrix_to_list(pic[1], mask_non_zero_ras)\n",
    "dataX.shape, datay.shape"
   ]
  },
  {
   "cell_type": "code",
   "execution_count": 13,
   "metadata": {},
   "outputs": [
    {
     "data": {
      "text/plain": [
       "(0, 0)"
      ]
     },
     "execution_count": 13,
     "metadata": {},
     "output_type": "execute_result"
    }
   ],
   "source": [
    "np.isnan(dataX).sum(), np.isnan(datay).sum()"
   ]
  },
  {
   "cell_type": "markdown",
   "metadata": {},
   "source": [
    "### Prepare for metrics"
   ]
  },
  {
   "cell_type": "code",
   "execution_count": 14,
   "metadata": {},
   "outputs": [],
   "source": [
    "def POD(obs, sim):\n",
    "    detected = (obs==1)&(sim==1)\n",
    "    missed = (obs==1)&(sim==-1)\n",
    "    return sum(detected)/(sum(missed)+sum(detected))\n",
    "\n",
    "def RFA(obs, sim):\n",
    "    false_alarm = (obs==-1)&(sim==1)\n",
    "    detected = (obs==1)&(sim==1)\n",
    "    return sum(false_alarm)/(sum(false_alarm)+sum(detected))\n",
    "\n",
    "def CSI(obs, sim):\n",
    "    detected = (obs==1)&(sim==1)\n",
    "    missed = (obs==1)&(sim==-1)\n",
    "    false_alarm = (obs==-1)&(sim==1)\n",
    "    return sum(detected)/(sum(false_alarm)+sum(detected)+sum(missed))"
   ]
  },
  {
   "cell_type": "markdown",
   "metadata": {},
   "source": [
    "### Pre-processing for the data input"
   ]
  },
  {
   "cell_type": "code",
   "execution_count": 20,
   "metadata": {},
   "outputs": [],
   "source": [
    "def get_train_test_x_y(data, path_data_shp):\n",
    "    shapes = gpd.read_file('../../example_data/train_test_all/train_test_all.shp')\n",
    "    minx, miny, maxx, maxy = shapes.total_bounds\n",
    "    extent = [minx, maxx, miny, maxy]\n",
    "    pixel_width = (maxx - minx)/data.shape[1]\n",
    "    pixel_height = (maxy - miny)/data.shape[0]\n",
    "    transform = from_origin(minx, maxy, pixel_width, pixel_height)\n",
    "\n",
    "    crs = shapes.crs\n",
    "    with MemoryFile() as memfile:\n",
    "        with memfile.open(driver='GTiff', \n",
    "                        height=data.shape[0], width=data.shape[1], count=1, dtype=str(data.dtype),\n",
    "                        crs=crs, transform=transform) as dst:\n",
    "            dst.write(data, 1)\n",
    "            dst.close()\n",
    "\n",
    "        with memfile.open() as src:\n",
    "            shapes = gpd.read_file(path_data_shp)\n",
    "            shapes = shapes.to_crs(src.crs)\n",
    "\n",
    "            geoms = shapes.geometry.values\n",
    "            geoms = [geom.__geo_interface__ for geom in geoms]\n",
    "\n",
    "            out_image_new, _ = mask(src, geoms, crop=True)\n",
    "            out_image = out_image_new.squeeze()\n",
    "            src.close()\n",
    "    return out_image"
   ]
  },
  {
   "cell_type": "code",
   "execution_count": 21,
   "metadata": {},
   "outputs": [
    {
     "data": {
      "text/plain": [
       "(5146, 5626)"
      ]
     },
     "execution_count": 21,
     "metadata": {},
     "output_type": "execute_result"
    }
   ],
   "source": [
    "train_path = '../../example_data/train_all/train_all.shp'\n",
    "train_hec = get_train_test_x_y(data_hec, train_path)\n",
    "train_hec.shape"
   ]
  },
  {
   "cell_type": "code",
   "execution_count": 22,
   "metadata": {},
   "outputs": [
    {
     "data": {
      "text/plain": [
       "(5146, 5626)"
      ]
     },
     "execution_count": 22,
     "metadata": {},
     "output_type": "execute_result"
    }
   ],
   "source": [
    "path = '../../example_data/'\n",
    "data_hand = sio.loadmat(path+'hand_data.mat')['img']\n",
    "data_hec = sio.loadmat(path+'hec_data.mat')['img']\n",
    "data_terrain = sio.loadmat(path+'terrain_data.mat')['img'][:, :]\n",
    "data_slope = sio.loadmat(path+'slope_data.mat')['img'][:, :]\n",
    "data_aspect = sio.loadmat(path+'aspect_data.mat')['img'][:, :]\n",
    "data_lulc = sio.loadmat(path+'lulc_data.mat')['img'][:, :]\n",
    "data_imper = sio.loadmat(path+'imper_data.mat')['img'][:, :]\n",
    "data_X_list = [data_hand, data_hec, data_terrain, data_slope, data_aspect, data_lulc, data_imper]\n",
    "\n",
    "train_X_list = [get_train_test_x_y(data, train_path) for data in data_X_list]\n",
    "train_X_list[0].shape"
   ]
  },
  {
   "cell_type": "code",
   "execution_count": 23,
   "metadata": {},
   "outputs": [
    {
     "data": {
      "text/plain": [
       "(5451, 3466)"
      ]
     },
     "execution_count": 23,
     "metadata": {},
     "output_type": "execute_result"
    }
   ],
   "source": [
    "test_path = '../../example_data/test_all/test_all.shp'\n",
    "test_hec = get_train_test_x_y(data_hec, test_path)\n",
    "test_hec.shape"
   ]
  },
  {
   "cell_type": "code",
   "execution_count": 24,
   "metadata": {},
   "outputs": [
    {
     "data": {
      "text/plain": [
       "(5451, 3466)"
      ]
     },
     "execution_count": 24,
     "metadata": {},
     "output_type": "execute_result"
    }
   ],
   "source": [
    "path = '../../example_data/'\n",
    "data_hand = sio.loadmat(path+'hand_data.mat')['img']\n",
    "data_hec = sio.loadmat(path+'hec_data.mat')['img']\n",
    "data_terrain = sio.loadmat(path+'terrain_data.mat')['img'][:, :]\n",
    "data_slope = sio.loadmat(path+'slope_data.mat')['img'][:, :]\n",
    "data_aspect = sio.loadmat(path+'aspect_data.mat')['img'][:, :]\n",
    "data_lulc = sio.loadmat(path+'lulc_data.mat')['img'][:, :]\n",
    "data_imper = sio.loadmat(path+'imper_data.mat')['img'][:, :]\n",
    "data_X_list = [data_hand, data_hec, data_terrain, data_slope, data_aspect, data_lulc, data_imper]\n",
    "\n",
    "test_X_list = [get_train_test_x_y(data, test_path) for data in data_X_list]\n",
    "test_X_list[0].shape"
   ]
  },
  {
   "cell_type": "code",
   "execution_count": 25,
   "metadata": {},
   "outputs": [
    {
     "data": {
      "text/plain": [
       "((788679, 6), (788679,))"
      ]
     },
     "execution_count": 25,
     "metadata": {},
     "output_type": "execute_result"
    }
   ],
   "source": [
    "fig_train, mask_train, loc_info_train = get_figures(train_X_list)\n",
    "dataX_train = np.stack([process_matrix_to_list(train_X_list[0], mask_train)]+\\\n",
    "                 [process_matrix_to_list(train_X_list[i], mask_train) for i in range(2, len(train_X_list))], axis=1)\n",
    "dataX_train[np.isnan(dataX_train)] = 0\n",
    "datay_train = process_matrix_to_list(fig_train[1], mask_train)\n",
    "dataX_train.shape, datay_train.shape"
   ]
  },
  {
   "cell_type": "code",
   "execution_count": 26,
   "metadata": {},
   "outputs": [
    {
     "data": {
      "text/plain": [
       "((220308, 6), (220308,))"
      ]
     },
     "execution_count": 26,
     "metadata": {},
     "output_type": "execute_result"
    }
   ],
   "source": [
    "fig_test, mask_test, loc_info_test = get_figures(test_X_list)\n",
    "dataX_test = np.stack([process_matrix_to_list(test_X_list[0], mask_test)]+\\\n",
    "                 [process_matrix_to_list(test_X_list[i], mask_test) for i in range(2, len(test_X_list))], axis=1)\n",
    "dataX_test[np.isnan(dataX_test)] = 0\n",
    "datay_test = process_matrix_to_list(fig_test[1], mask_test)\n",
    "dataX_test.shape, datay_test.shape"
   ]
  },
  {
   "cell_type": "code",
   "execution_count": 22,
   "metadata": {},
   "outputs": [
    {
     "data": {
      "text/plain": [
       "((5146, 5626), (5451, 3466))"
      ]
     },
     "execution_count": 22,
     "metadata": {},
     "output_type": "execute_result"
    }
   ],
   "source": [
    "train_X_list[0].shape, test_X_list[0].shape"
   ]
  },
  {
   "cell_type": "markdown",
   "metadata": {},
   "source": [
    "### Train the model"
   ]
  },
  {
   "cell_type": "markdown",
   "metadata": {},
   "source": [
    "#### Hand-on way (adjust the hyperparameter manually)"
   ]
  },
  {
   "cell_type": "code",
   "execution_count": 95,
   "metadata": {},
   "outputs": [],
   "source": [
    "from sklearn.ensemble import RandomForestClassifier\n",
    "\n",
    "class_weights = {-1: 1, 1: 10}\n",
    "\n",
    "rf = RandomForestClassifier(n_estimators=1500, min_samples_leaf=3, \n",
    "                            max_depth=50, random_state=5, max_leaf_nodes=50, \n",
    "                            n_jobs=8, class_weight=class_weights).fit(dataX_train, datay_train)"
   ]
  },
  {
   "cell_type": "markdown",
   "metadata": {},
   "source": [
    "#### Automatic search the optimal one"
   ]
  },
  {
   "cell_type": "code",
   "execution_count": 23,
   "metadata": {},
   "outputs": [],
   "source": [
    "from sklearn.metrics import make_scorer\n",
    "\n",
    "def custom_loss_function(y_true, y_pred, *args, **kwargs):\n",
    "    detected = (y_true==1)&(y_pred==1)\n",
    "    missed = (y_true==1)&(y_pred==-1)\n",
    "    false_alarm = (y_true==-1)&(y_pred==1)\n",
    "    return sum(detected)/(sum(false_alarm)+sum(detected)+sum(missed))\n",
    "\n",
    "custom_loss = make_scorer(custom_loss_function, greater_is_better=True)"
   ]
  },
  {
   "cell_type": "code",
   "execution_count": 88,
   "metadata": {},
   "outputs": [],
   "source": [
    "from sklearn.ensemble import RandomForestClassifier\n",
    "from sklearn.model_selection import GridSearchCV\n",
    "\n",
    "# Define the parameter grid (adjust it yourself for better results)\n",
    "param_grid = {\n",
    "    'n_estimators': [100, 200, 300, 400, 500, 800, 1000],\n",
    "    'min_samples_leaf': [5, 10, 15, 20],\n",
    "    'max_depth': [5, 10, 20, 30, 50],\n",
    "    'max_leaf_nodes': [10, 20, 30, 50]\n",
    "}\n",
    "\n",
    "n_jobs = 8\n",
    "rf = RandomForestClassifier(random_state=1)\n",
    "grid_search = GridSearchCV(estimator=rf, param_grid=param_grid, cv=5, verbose=2, scoring=custom_loss, n_jobs=n_jobs)\n",
    "\n",
    "grid_search.fit(dataX_train, datay_train)\n",
    "\n",
    "best_params = grid_search.best_params_\n",
    "best_params"
   ]
  },
  {
   "cell_type": "code",
   "execution_count": null,
   "metadata": {},
   "outputs": [],
   "source": [
    "from joblib import dump\n",
    "# Save the model with maximum compression\n",
    "dump(rf, '../../example_data/saved_model/rf_model_demo.joblib', compress=9)"
   ]
  },
  {
   "cell_type": "markdown",
   "metadata": {},
   "source": [
    "### Use well-trained model"
   ]
  },
  {
   "cell_type": "code",
   "execution_count": 28,
   "metadata": {},
   "outputs": [
    {
     "data": {
      "text/html": [
       "<style>#sk-container-id-1 {color: black;}#sk-container-id-1 pre{padding: 0;}#sk-container-id-1 div.sk-toggleable {background-color: white;}#sk-container-id-1 label.sk-toggleable__label {cursor: pointer;display: block;width: 100%;margin-bottom: 0;padding: 0.3em;box-sizing: border-box;text-align: center;}#sk-container-id-1 label.sk-toggleable__label-arrow:before {content: \"▸\";float: left;margin-right: 0.25em;color: #696969;}#sk-container-id-1 label.sk-toggleable__label-arrow:hover:before {color: black;}#sk-container-id-1 div.sk-estimator:hover label.sk-toggleable__label-arrow:before {color: black;}#sk-container-id-1 div.sk-toggleable__content {max-height: 0;max-width: 0;overflow: hidden;text-align: left;background-color: #f0f8ff;}#sk-container-id-1 div.sk-toggleable__content pre {margin: 0.2em;color: black;border-radius: 0.25em;background-color: #f0f8ff;}#sk-container-id-1 input.sk-toggleable__control:checked~div.sk-toggleable__content {max-height: 200px;max-width: 100%;overflow: auto;}#sk-container-id-1 input.sk-toggleable__control:checked~label.sk-toggleable__label-arrow:before {content: \"▾\";}#sk-container-id-1 div.sk-estimator input.sk-toggleable__control:checked~label.sk-toggleable__label {background-color: #d4ebff;}#sk-container-id-1 div.sk-label input.sk-toggleable__control:checked~label.sk-toggleable__label {background-color: #d4ebff;}#sk-container-id-1 input.sk-hidden--visually {border: 0;clip: rect(1px 1px 1px 1px);clip: rect(1px, 1px, 1px, 1px);height: 1px;margin: -1px;overflow: hidden;padding: 0;position: absolute;width: 1px;}#sk-container-id-1 div.sk-estimator {font-family: monospace;background-color: #f0f8ff;border: 1px dotted black;border-radius: 0.25em;box-sizing: border-box;margin-bottom: 0.5em;}#sk-container-id-1 div.sk-estimator:hover {background-color: #d4ebff;}#sk-container-id-1 div.sk-parallel-item::after {content: \"\";width: 100%;border-bottom: 1px solid gray;flex-grow: 1;}#sk-container-id-1 div.sk-label:hover label.sk-toggleable__label {background-color: #d4ebff;}#sk-container-id-1 div.sk-serial::before {content: \"\";position: absolute;border-left: 1px solid gray;box-sizing: border-box;top: 0;bottom: 0;left: 50%;z-index: 0;}#sk-container-id-1 div.sk-serial {display: flex;flex-direction: column;align-items: center;background-color: white;padding-right: 0.2em;padding-left: 0.2em;position: relative;}#sk-container-id-1 div.sk-item {position: relative;z-index: 1;}#sk-container-id-1 div.sk-parallel {display: flex;align-items: stretch;justify-content: center;background-color: white;position: relative;}#sk-container-id-1 div.sk-item::before, #sk-container-id-1 div.sk-parallel-item::before {content: \"\";position: absolute;border-left: 1px solid gray;box-sizing: border-box;top: 0;bottom: 0;left: 50%;z-index: -1;}#sk-container-id-1 div.sk-parallel-item {display: flex;flex-direction: column;z-index: 1;position: relative;background-color: white;}#sk-container-id-1 div.sk-parallel-item:first-child::after {align-self: flex-end;width: 50%;}#sk-container-id-1 div.sk-parallel-item:last-child::after {align-self: flex-start;width: 50%;}#sk-container-id-1 div.sk-parallel-item:only-child::after {width: 0;}#sk-container-id-1 div.sk-dashed-wrapped {border: 1px dashed gray;margin: 0 0.4em 0.5em 0.4em;box-sizing: border-box;padding-bottom: 0.4em;background-color: white;}#sk-container-id-1 div.sk-label label {font-family: monospace;font-weight: bold;display: inline-block;line-height: 1.2em;}#sk-container-id-1 div.sk-label-container {text-align: center;}#sk-container-id-1 div.sk-container {/* jupyter's `normalize.less` sets `[hidden] { display: none; }` but bootstrap.min.css set `[hidden] { display: none !important; }` so we also need the `!important` here to be able to override the default hidden behavior on the sphinx rendered scikit-learn.org. See: https://github.com/scikit-learn/scikit-learn/issues/21755 */display: inline-block !important;position: relative;}#sk-container-id-1 div.sk-text-repr-fallback {display: none;}</style><div id=\"sk-container-id-1\" class=\"sk-top-container\"><div class=\"sk-text-repr-fallback\"><pre>RandomForestClassifier(class_weight={-1: 1, 1: 20}, max_depth=80,\n",
       "                       max_leaf_nodes=80, min_samples_leaf=3, n_estimators=1500,\n",
       "                       n_jobs=8, random_state=5)</pre><b>In a Jupyter environment, please rerun this cell to show the HTML representation or trust the notebook. <br />On GitHub, the HTML representation is unable to render, please try loading this page with nbviewer.org.</b></div><div class=\"sk-container\" hidden><div class=\"sk-item\"><div class=\"sk-estimator sk-toggleable\"><input class=\"sk-toggleable__control sk-hidden--visually\" id=\"sk-estimator-id-1\" type=\"checkbox\" checked><label for=\"sk-estimator-id-1\" class=\"sk-toggleable__label sk-toggleable__label-arrow\">RandomForestClassifier</label><div class=\"sk-toggleable__content\"><pre>RandomForestClassifier(class_weight={-1: 1, 1: 20}, max_depth=80,\n",
       "                       max_leaf_nodes=80, min_samples_leaf=3, n_estimators=1500,\n",
       "                       n_jobs=8, random_state=5)</pre></div></div></div></div></div>"
      ],
      "text/plain": [
       "RandomForestClassifier(class_weight={-1: 1, 1: 20}, max_depth=80,\n",
       "                       max_leaf_nodes=80, min_samples_leaf=3, n_estimators=1500,\n",
       "                       n_jobs=8, random_state=5)"
      ]
     },
     "execution_count": 28,
     "metadata": {},
     "output_type": "execute_result"
    }
   ],
   "source": [
    "from joblib import load\n",
    "rf = load('../../example_data/saved_model/rf_model_demo.joblib')\n",
    "rf"
   ]
  },
  {
   "cell_type": "code",
   "execution_count": 25,
   "metadata": {},
   "outputs": [],
   "source": [
    "predy_train = rf.predict(dataX_train)\n",
    "predy_test = rf.predict(dataX_test)\n",
    "\n",
    "ymatr_tr = np.zeros(fig_train[1].shape)\n",
    "ymatr_tr[mask_train] = predy_train\n",
    "\n",
    "ymatr_te = np.zeros(fig_test[1].shape)\n",
    "ymatr_te[mask_test] = predy_test"
   ]
  },
  {
   "cell_type": "code",
   "execution_count": 26,
   "metadata": {},
   "outputs": [
    {
     "data": {
      "text/html": [
       "<div>\n",
       "<style scoped>\n",
       "    .dataframe tbody tr th:only-of-type {\n",
       "        vertical-align: middle;\n",
       "    }\n",
       "\n",
       "    .dataframe tbody tr th {\n",
       "        vertical-align: top;\n",
       "    }\n",
       "\n",
       "    .dataframe thead th {\n",
       "        text-align: right;\n",
       "    }\n",
       "</style>\n",
       "<table border=\"1\" class=\"dataframe\">\n",
       "  <thead>\n",
       "    <tr style=\"text-align: right;\">\n",
       "      <th></th>\n",
       "      <th>Train</th>\n",
       "      <th>Test</th>\n",
       "    </tr>\n",
       "  </thead>\n",
       "  <tbody>\n",
       "    <tr>\n",
       "      <th>CSI</th>\n",
       "      <td>0.716553</td>\n",
       "      <td>0.709181</td>\n",
       "    </tr>\n",
       "    <tr>\n",
       "      <th>POD</th>\n",
       "      <td>0.999317</td>\n",
       "      <td>0.999136</td>\n",
       "    </tr>\n",
       "    <tr>\n",
       "      <th>RFA</th>\n",
       "      <td>0.283096</td>\n",
       "      <td>0.290384</td>\n",
       "    </tr>\n",
       "  </tbody>\n",
       "</table>\n",
       "</div>"
      ],
      "text/plain": [
       "        Train      Test\n",
       "CSI  0.716553  0.709181\n",
       "POD  0.999317  0.999136\n",
       "RFA  0.283096  0.290384"
      ]
     },
     "execution_count": 26,
     "metadata": {},
     "output_type": "execute_result"
    }
   ],
   "source": [
    "df_performance = pd.DataFrame(data=np.full((3, 2), np.nan), columns=['Train', 'Test'], index=['CSI', 'POD', 'RFA'])\n",
    "df_performance.iloc[0] = CSI(datay_train, predy_train), CSI(datay_test, predy_test)\n",
    "df_performance.iloc[1] = POD(datay_train, predy_train), POD(datay_test, predy_test)\n",
    "df_performance.iloc[2] = RFA(datay_train, predy_train), RFA(datay_test, predy_test)\n",
    "df_performance"
   ]
  },
  {
   "cell_type": "markdown",
   "metadata": {},
   "source": [
    "#### Compare to the HAND-FIM (HEC-RAS as the target)"
   ]
  },
  {
   "cell_type": "code",
   "execution_count": 27,
   "metadata": {},
   "outputs": [
    {
     "data": {
      "text/html": [
       "<div>\n",
       "<style scoped>\n",
       "    .dataframe tbody tr th:only-of-type {\n",
       "        vertical-align: middle;\n",
       "    }\n",
       "\n",
       "    .dataframe tbody tr th {\n",
       "        vertical-align: top;\n",
       "    }\n",
       "\n",
       "    .dataframe thead th {\n",
       "        text-align: right;\n",
       "    }\n",
       "</style>\n",
       "<table border=\"1\" class=\"dataframe\">\n",
       "  <thead>\n",
       "    <tr style=\"text-align: right;\">\n",
       "      <th></th>\n",
       "      <th>Train</th>\n",
       "      <th>Test</th>\n",
       "    </tr>\n",
       "  </thead>\n",
       "  <tbody>\n",
       "    <tr>\n",
       "      <th>CSI</th>\n",
       "      <td>0.601819</td>\n",
       "      <td>0.528365</td>\n",
       "    </tr>\n",
       "    <tr>\n",
       "      <th>POD</th>\n",
       "      <td>0.999928</td>\n",
       "      <td>1.000000</td>\n",
       "    </tr>\n",
       "    <tr>\n",
       "      <th>RFA</th>\n",
       "      <td>0.398155</td>\n",
       "      <td>0.471635</td>\n",
       "    </tr>\n",
       "  </tbody>\n",
       "</table>\n",
       "</div>"
      ],
      "text/plain": [
       "        Train      Test\n",
       "CSI  0.601819  0.528365\n",
       "POD  0.999928  1.000000\n",
       "RFA  0.398155  0.471635"
      ]
     },
     "execution_count": 27,
     "metadata": {},
     "output_type": "execute_result"
    }
   ],
   "source": [
    "df_hand_hec = pd.DataFrame(data=np.full((3, 2), np.nan), columns=['Train', 'Test'], index=['CSI', 'POD', 'RFA'])\n",
    "df_hand_hec.iloc[:, 0] = CSI(datay_train, dataX_train[:, 0]), POD(datay_train, dataX_train[:, 0]), RFA(datay_train, dataX_train[:, 0])\n",
    "df_hand_hec.iloc[:, 1] = CSI(datay_test, dataX_test[:, 0]), POD(datay_test, dataX_test[:, 0]), RFA(datay_test, dataX_test[:, 0])\n",
    "df_hand_hec"
   ]
  },
  {
   "cell_type": "markdown",
   "metadata": {},
   "source": [
    "### For the whole map"
   ]
  },
  {
   "cell_type": "code",
   "execution_count": 28,
   "metadata": {},
   "outputs": [],
   "source": [
    "predy = rf.predict(dataX)\n",
    "\n",
    "ymatr = np.zeros(pic[1].shape)\n",
    "ymatr[mask_non_zero_ras] = predy"
   ]
  },
  {
   "cell_type": "code",
   "execution_count": 29,
   "metadata": {},
   "outputs": [
    {
     "data": {
      "image/png": "[encoded data removed]",
      "text/plain": [
       "<Figure size 1200x600 with 3 Axes>"
      ]
     },
     "metadata": {},
     "output_type": "display_data"
    }
   ],
   "source": [
    "import matplotlib.colors as colors\n",
    "\n",
    "cmap = colors.ListedColormap(['gray', 'white', 'red'])\n",
    "\n",
    "def map_colors(data):\n",
    "    return cmap([(data == -1)*0 + (data == 0)*1 + (data == 1)*2])\n",
    "\n",
    "fig, axs = plt.subplots(1, 3, figsize=(12, 6))\n",
    "\n",
    "ax = axs[0]\n",
    "ax.set_title('HAND FIM', fontsize=14)\n",
    "im = ax.imshow(data_X_list[0], cmap=cmap)\n",
    "\n",
    "ax = axs[1]\n",
    "ax.set_title('HEC-RAS', fontsize=14)\n",
    "im = ax.imshow(data_hec, cmap=cmap)\n",
    "\n",
    "ax = axs[2]\n",
    "ax.set_title('Predicted', fontsize=14)\n",
    "im = ax.imshow(ymatr, cmap=cmap)\n",
    "\n",
    "from matplotlib import patches\n",
    "\n",
    "for ax in axs.flatten():\n",
    "    for spine in ax.spines.values():\n",
    "        spine.set_linewidth(0.25)\n",
    "    ax.set_xticks([])\n",
    "    ax.set_yticks([])\n",
    "    rectangle_test_list = [patches.Rectangle((290, 200), 400, 750, \n",
    "                                       linewidth=1.05, edgecolor='k', \n",
    "                                       facecolor='none', linestyle='--', alpha=.95),\n",
    "                           patches.Rectangle((2180, 0), 350, 250, \n",
    "                                       linewidth=1.05, edgecolor='k', \n",
    "                                       facecolor='none', linestyle='--', alpha=.95),\n",
    "                           patches.Rectangle((590, 2620), 270, 330, \n",
    "                                       linewidth=1.05, edgecolor='k', \n",
    "                                       facecolor='none', linestyle='--', alpha=.95),\n",
    "                           patches.Rectangle((3300, 5030), 480, 400, \n",
    "                                       linewidth=1.05, edgecolor='k', \n",
    "                                       facecolor='none', linestyle='--', alpha=.95)]\n",
    "    for rectangle_test in rectangle_test_list:\n",
    "        ax.add_patch(rectangle_test)\n",
    "    \n",
    "plt.tight_layout()\n",
    "\n",
    "plt.show()"
   ]
  },
  {
   "cell_type": "code",
   "execution_count": null,
   "metadata": {},
   "outputs": [],
   "source": []
  }
 ],
 "metadata": {
  "kernelspec": {
   "display_name": "myenv",
   "language": "python",
   "name": "python3"
  },
  "language_info": {
   "codemirror_mode": {
    "name": "ipython",
    "version": 3
   },
   "file_extension": ".py",
   "mimetype": "text/x-python",
   "name": "python",
   "nbconvert_exporter": "python",
   "pygments_lexer": "ipython3",
   "version": "3.11.3"
  },
  "orig_nbformat": 4
 },
 "nbformat": 4,
 "nbformat_minor": 2
}
